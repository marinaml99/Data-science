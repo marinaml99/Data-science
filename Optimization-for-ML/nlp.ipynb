{
 "cells": [
  {
   "cell_type": "markdown",
   "metadata": {
    "id": "aPQF9NzQa6Nw"
   },
   "source": [
    "# **Computer Lab 1 - Natural Language Processing**\n",
    "### SD-TSIA 211\n",
    "\n",
    "> Marina de Menezes Lima\n",
    "\n",
    "> Gabriel Silva Vieira de Melo\n",
    "\n",
    "\n"
   ]
  },
  {
   "cell_type": "code",
   "execution_count": null,
   "metadata": {
    "id": "2gGTSicn3czQ"
   },
   "outputs": [],
   "source": [
    "import numpy as np\n",
    "from numpy import log, exp, sqrt, ravel\n",
    "import scipy.sparse as sp\n",
    "from scipy.linalg import norm, solve\n",
    "from scipy.optimize import check_grad\n",
    "import matplotlib.pyplot as plt\n",
    "import time"
   ]
  },
  {
   "cell_type": "markdown",
   "metadata": {
    "id": "Xb8ATeB3clQn"
   },
   "source": [
    "# **Tikhonov regularization** "
   ]
  },
  {
   "cell_type": "markdown",
   "metadata": {
    "id": "aZ5H4k8kbnnI"
   },
   "source": [
    "## **Question 3.1**\n",
    "\\begin{equation}\n",
    "f_1: (w_0, w) \\mapsto \\frac{1}{n}\\sum_{i=1}^n log(1 + e^{-y_i(x_i^Tw + w_0)}) + \\frac{\\rho}{2}\\|w\\|_2^2\n",
    "\\end{equation}\n",
    "\n",
    "where  $x_i \\in \\mathbb{R} ^p $,  $y_i \\in \\{-1,1\\} $, $w \\in \\mathbb{R} ^p $ and $w_0 \\in \\mathbb{R}$\n",
    "\n",
    "Calculating the gradient,\n",
    "\n",
    "\\begin{equation}\n",
    "\\nabla f_1(w_0,w) = \n",
    "\\begin{pmatrix}\n",
    " \\frac {\\partial f_1}{\\partial w_0}\\\\\n",
    " \\frac {\\partial f_1}{\\partial w} \n",
    "\\end{pmatrix} \n",
    "= \n",
    "\\begin{pmatrix}\n",
    " \\frac{1}{n}\\sum_{i=1}^n\\frac{-y_i e^{-y_i(x_i^T w +w_0)}}{1 + e^{-y_i(x_i^T w+w_0)}}\\\\\n",
    " \\frac{1}{n}\\sum_{i=1}^n\\frac{-y_i e^{-y_i(x_i^T w+w_0)}x_i}{1 + e^{-y_i(x_i^T w+w_0)}} + \\rho w\n",
    "\\end{pmatrix}\n",
    "\\end{equation}\n",
    "\n",
    "So,\n",
    "\n",
    "\\begin{equation}\n",
    "\\nabla f_1(w_0,w) = \n",
    "\\begin{pmatrix}\n",
    " \\frac{1}{n}\\sum_{i=1}^n\\frac{-y_i}{1 + e^{y_i(x_i^T w+w_0)}}\\\\\n",
    " \\frac{1}{n}\\sum_{i=1}^n\\frac{-y_i}{1 + e^{y_i(x_i^T w+w_0)}}x_i + \\rho w\n",
    "\\end{pmatrix}\n",
    "\\in \\mathbb{R}^{p+1}\n",
    "\\end{equation}\n",
    "\n",
    "Calculating the Hessian Matrix \n",
    "\n",
    "\\begin{equation}\n",
    "\\nabla ^2 f_1(w_0,w)= \n",
    "\\begin{pmatrix}\n",
    "    \\frac {\\partial^2 f_1}{\\partial {w_0} ^2} &  \\frac {\\partial^2 f_1}{\\partial w_0 \\partial w}\\\\\n",
    "    \\frac {\\partial^2 f_1}{\\partial w \\partial w_0} & \\frac {\\partial^2 f_1}{\\partial w ^2} \n",
    "\\end{pmatrix}\n",
    "\\end{equation}\n",
    "\n",
    "\\\\\n",
    "\n",
    "\\begin{equation}\n",
    " \\frac {\\partial^2 f_1}{\\partial {w_0} ^2} = \\frac{1}{n}\\sum_{i=1}^n\\frac{{y_i}^2 e^{-y_i(x_i^T w +w_0)}}{(1 + e^{-y_i(x_i^T w+w_0)})^2} \\in \\mathbb{R} \n",
    "\\end{equation}\n",
    "\n",
    "\\begin{equation}\n",
    "  \\frac {\\partial^2 f_1}{\\partial w_0 \\partial w} = \\frac{1}{n}\\sum_{i=1}^n\\frac{{y_i}^2 e^{-y_i(x_i^T w +w_0)}}{(1 + e^{-y_i(x_i^T w+w_0)})^2}{x_i}^T \\in \\mathbb{R}^{1 \\times p}\n",
    "\\end{equation}\n",
    "\n",
    "\\begin{equation}\n",
    "  \\frac {\\partial^2 f_1}{\\partial w \\partial w_0} = \\frac{1}{n}\\sum_{i=1}^n\\frac{{y_i}^2 e^{-y_i(x_i^T w +w_0)}}{(1 + e^{-y_i(x_i^T w+w_0)})^2}x_i \\in \\mathbb{R}^{p \\times 1}\n",
    "\\end{equation}\n",
    "\n",
    "\\begin{equation}\n",
    " \\frac {\\partial^2 f_1}{\\partial w ^2} = \\frac{1}{n}\\sum_{i=1}^n\\frac{{y_i}^2 e^{-y_i(x_i^T w +w_0)}}{(1 + e^{-y_i(x_i^T w+w_0)})^2}x_i{x_i}^T + \\rho I \\in \\mathbb{R}^{p \\times p}\n",
    "\\end{equation}\n",
    "\n",
    "So,\n",
    "\n",
    "\\begin{equation}\n",
    "\\nabla ^2 f_1(w_0,w)=  \\frac{1}{n}\\sum_{i=1}^n\\frac{{y_i}^2 e^{-y_i(x_i^T w +w_0)}}{(1 + e^{-y_i(x_i^T w+w_0)})^2}\n",
    "\\begin{pmatrix}\n",
    "    1 &  {x_i}^T \\\\\n",
    "   x_i & x_i {x_i}^T\n",
    "\\end{pmatrix}\n",
    "+\n",
    "\\begin{pmatrix}\n",
    "    0 &  0 \\\\\n",
    "    0 & \\rho I\n",
    "\\end{pmatrix}\n",
    "\\end{equation}\n",
    "\n",
    "\\\\\n",
    "\n",
    "\\begin{equation}\n",
    " \\nabla ^2 f_1(w_0,w) \\in \\mathbb{R}^{p+1 \\times p+1}\n",
    "\\end{equation}\n",
    "\n",
    "\n",
    "To prove that the function $f_1$ is convex we need to show that the Hessian is a positive semi-definite matrix. \n",
    "\n",
    "\\begin{equation}\n",
    "  v^T\\nabla ^2 f_1(w_0,w)v \\geq 0, \\forall v \\in \\mathbb{R}^{p+1}\n",
    "\\end{equation}\n",
    "\n",
    "Since the Hessian is a sum of two matrix, we just have to prove that each matrix is positive semi-definite. To facilitate the demonstration, we are going to consider $v = (v_0, v_1, ..., v_{p-1}, v_p)^T$\n",
    "\n",
    "\\begin{equation}\n",
    "  v^T\n",
    "  \\begin{pmatrix}\n",
    "    0 &  0 \\\\\n",
    "    0 & \\rho I\n",
    "  \\end{pmatrix}v =\\rho \\sum_{i=1}^p {v_i}^2 \\geq 0\n",
    "\\end{equation}\n",
    "\n",
    "Hence, the matrix $\\begin{pmatrix}\n",
    "    0 &  0 \\\\\n",
    "    0 & \\rho I\n",
    "  \\end{pmatrix}$ is positive semi-definite\n",
    "\n",
    "To finish, we need to prove that $  \\frac{1}{n}\\sum_{i=1}^n\\frac{{y_i}^2 e^{-y_i(x_i^T w +w_0)}}{(1 + e^{-y_i(x_i^T w+w_0)})^2}\n",
    "\\begin{pmatrix}\n",
    "    1 &  {x_i}^T \\\\\n",
    "   x_i & x_i {x_i}^T\n",
    "\\end{pmatrix}$ is a positive semi-definite matrix. \n",
    "\n",
    "Since $\\frac{1}{n}\\sum_{i=1}^n\\frac{{y_i}^2 e^{-y_i(x_i^T w +w_0)}}{(1 + e^{-y_i(x_i^T w+w_0)})^2} \\geq 0$, we only need to show that $\\begin{pmatrix}\n",
    "    1 &  {x_i}^T \\\\\n",
    "   x_i & x_i {x_i}^T\n",
    "  \\end{pmatrix}$ is positive semi-definite. \n",
    "\n",
    "\\begin{equation}\n",
    "  \\begin{pmatrix}\n",
    "    1 &  {x_i}^T \\\\\n",
    "   x_i & x_i {x_i}^T\n",
    "  \\end{pmatrix} \n",
    "  =\n",
    "  \\begin{pmatrix}\n",
    "    1 & x_{i1} & ... & x_{ip} \\\\\n",
    "    x_{i1} & {x_{i1}}^2 & ... & x_{i1}x_{ip}\\\\\n",
    "    .\\\\\n",
    "    .\\\\\n",
    "    .\\\\\n",
    "    x_{ip} & x_{ip}x_{i1} & ... & {x_{ip}}^2\n",
    "  \\end{pmatrix}\n",
    "\\end{equation}\n",
    "\n",
    "We can conclude that $rank\\left\\{\\begin{pmatrix}\n",
    "    1 &  {x_i}^T \\\\\n",
    "   x_i & x_i {x_i}^T\n",
    "  \\end{pmatrix}\\right\\} = 1 $, because the matrix is composed by linear combinations of the first column. \n",
    "\n",
    "Since it is a rank 1 matrix, the trace operator is going to be equal to its unique eigenvalue ($\\lambda$). \n",
    "\n",
    "\\begin{equation}\n",
    "tr \\left\\{\n",
    "\\begin{pmatrix}\n",
    "  1 &  {x_i}^T \\\\\n",
    "   x_i & x_i {x_i}^T\n",
    "\\end{pmatrix}\\right\\} = \\lambda = 1 + \\sum_{k=1}^p{x_{ik}}^2 > 0\n",
    "\\end{equation}\n",
    "\n",
    "So, the matrix $\\begin{pmatrix}\n",
    "  1 &  {x_i}^T \\\\\n",
    "   x_i & x_i {x_i}^T\n",
    "\\end{pmatrix}$ is positive semi-definite. Consequently, the function $f_1(w_0,w)$ is indeed a convex function."
   ]
  },
  {
   "cell_type": "markdown",
   "metadata": {
    "id": "Fxp0ldOu3MSi"
   },
   "source": [
    "## **Question 3.2**"
   ]
  },
  {
   "cell_type": "code",
   "execution_count": null,
   "metadata": {
    "id": "3YPp2vnphpvk"
   },
   "outputs": [],
   "source": [
    "def load_data(file_name_matrix='tfidf_matrix_97MB.npz', file_name_feature_names='feature_names_97MB.npy',\n",
    "\t      file_name_labels='train_labels.npy', samples_in_train_set=10000,\n",
    "\t      samples_in_test_set=137562):\n",
    "\t# Recuperation des donnees\n",
    "\tTF_IDF_matrix = sp.load_npz(file_name_matrix)\n",
    "\tTF_IDF_feature_names = np.load(file_name_feature_names)\n",
    "\ttrain_labels = np.load(file_name_labels, allow_pickle=True)\n",
    "\ttrain_labels_numeric = ((train_labels == 'Oui') + 0)\n",
    "\n",
    "\tX = TF_IDF_matrix[:samples_in_train_set].toarray()\n",
    "\ty = train_labels_numeric[:samples_in_train_set] * 2 - 1\n",
    "\n",
    "\tX_test = TF_IDF_matrix[samples_in_train_set:samples_in_train_set+samples_in_test_set].toarray()\n",
    "\ty_test = train_labels_numeric[samples_in_train_set:samples_in_train_set+samples_in_test_set] * 2 - 1\n",
    "\n",
    "\n",
    "\t# Standardisation des données\n",
    "\tstd_X = np.maximum(np.std(X, axis=0), 1e-7)\n",
    "\tX = X / std_X\n",
    "\tX_test = X_test / std_X\n",
    "\n",
    "\tn = X.shape[0]\n",
    "\tn_test = X_test.shape[0]\n",
    "\tm = X.shape[1]\n",
    "\n",
    "\t# Ajout d'une colonne de uns\n",
    "\teX = np.hstack((np.ones((n,1)), X))\n",
    "\teX_test = np.hstack((np.ones((n_test,1)), X_test))\n",
    "\n",
    "\treturn eX, y, eX_test, y_test, n, m, X"
   ]
  },
  {
   "cell_type": "code",
   "execution_count": null,
   "metadata": {
    "id": "DwV5ecmdI051"
   },
   "outputs": [],
   "source": [
    "def func(X, y, w, w0, rho,eX,eW):\n",
    "  n,p = X.shape \n",
    "  v = [-1*y[i]*(np.dot(X[i],w) + w0) for i in range(n)]\n",
    "\n",
    "  #f(x)\n",
    "  val = np.mean(np.log(1 + np.exp(v))) + (rho/2)*np.linalg.norm(w,2)\n",
    "\n",
    "  #gradient\n",
    "  z = [(-y[i])/(1 + np.exp(-1*v[i])) for i in range(n)]\n",
    "  grad_w0 = np.mean(z)\n",
    "  \n",
    "  z = [(-X[i]*y[i])/(1 + np.exp(-1*v[i])) for i in range(n)]\n",
    "  grad_w = (1/n)*sum(z) + rho*w\n",
    "\n",
    "  grad = np.append(grad_w0, grad_w)\n",
    "\n",
    "  #hessian matrix\n",
    "  v = np.exp( y*(eX.dot(eW)))\n",
    "  h = 1/n * sum( v[i] / ((1+ v[i])**2) * ( np.reshape(eX[i,:],(p+1,1)).dot(np.reshape(eX[i,:],(1,p+1))) ) for i in range(n) )  \n",
    "  A = np.identity(p+1)\n",
    "  A[0,0] = 0\n",
    "  hessian = h + rho * A\n",
    "\n",
    "  return val, grad, hessian"
   ]
  },
  {
   "cell_type": "code",
   "execution_count": null,
   "metadata": {
    "id": "vyPcyfxNr2X-"
   },
   "outputs": [],
   "source": [
    "eX, y, eX_test, y_test, n, p, X = load_data()"
   ]
  },
  {
   "cell_type": "code",
   "execution_count": null,
   "metadata": {
    "colab": {
     "base_uri": "https://localhost:8080/"
    },
    "id": "BY6Y7lblIFsH",
    "outputId": "b451f075-65db-462d-cf75-e35a4bdb686d"
   },
   "outputs": [
    {
     "name": "stdout",
     "output_type": "stream",
     "text": [
      "The value of the function is:  0.6931471805599453\n"
     ]
    }
   ],
   "source": [
    "rho = 1/n\n",
    "w0 = 0\n",
    "w = np.zeros(p)\n",
    "eW = np.append(w0,w)\n",
    "val, grad, hessian = func(X, y, w, w0, rho, eX, eW)\n",
    "\n",
    "print(\"The value of the function is: \", val)"
   ]
  },
  {
   "cell_type": "code",
   "execution_count": null,
   "metadata": {
    "id": "C9T_0C0aFNBg"
   },
   "outputs": [],
   "source": [
    "X, y, w, w0, rho, eX, eW\n",
    "def function(eW):\n",
    "  val, grad, hessian = func(X, y, w, w0, rho, eX, eW)\n",
    "  return val\n",
    "\n",
    "def gradient(eW):\n",
    "  val, grad, hessian = func(X, y, w, w0, rho, eX, eW)\n",
    "  return grad"
   ]
  },
  {
   "cell_type": "code",
   "execution_count": null,
   "metadata": {
    "id": "tmRicYs_5kpp"
   },
   "outputs": [],
   "source": [
    "print(check_grad(function, gradient, eW))"
   ]
  },
  {
   "cell_type": "markdown",
   "metadata": {
    "id": "4SnwiXEK_2-6"
   },
   "source": [
    "## **Question 3.3**"
   ]
  },
  {
   "cell_type": "code",
   "execution_count": null,
   "metadata": {
    "id": "yxxMVU3sAJCe"
   },
   "outputs": [],
   "source": [
    "def newton(X, y, w, w0, rho, eX, eW, stop):\n",
    "  val, grad, hes = func(X, y, w, w0, rho, eX, eW)\n",
    "  \n",
    "  norm = np.linalg.norm(grad[1:])\n",
    "  v = [norm]\n",
    "  \n",
    "  k = 0\n",
    "  while(norm >= stop):\n",
    "    W = np.append(w0, w) - np.linalg.solve(hes, grad)\n",
    "    w0 = W[0]\n",
    "    w = W[1:]\n",
    "\n",
    "    val, grad, hes = func(X, y, w, w0, rho, eX, eW)\n",
    "    norm = np.linalg.norm(grad[1:])\n",
    "    v.append(norm)\n",
    "\n",
    "    k = k + 1\n",
    "\n",
    "  plt.figure()  \n",
    "  plt.plot(v)\n",
    "  plt.yscale(\"log\")\n",
    "  plt.xlabel(\"Iterations\")\n",
    "  plt.ylabel(\"Norm of the gradient\")\n",
    "  plt.show()\n",
    "\n",
    "  print(\"Value of the function:\", val)\n",
    "  print(\"Number of iterations:\", k)"
   ]
  },
  {
   "cell_type": "code",
   "execution_count": null,
   "metadata": {
    "colab": {
     "base_uri": "https://localhost:8080/",
     "height": 314
    },
    "id": "Kx28pXAJFKoW",
    "outputId": "c19af7de-4346-413c-e930-aa96db659190"
   },
   "outputs": [
    {
     "data": {
      "image/png": "[encoded data removed]",
      "text/plain": [
       "<Figure size 432x288 with 1 Axes>"
      ]
     },
     "metadata": {},
     "output_type": "display_data"
    },
    {
     "name": "stdout",
     "output_type": "stream",
     "text": [
      "Value of the function: 0.56806352992635\n",
      "Number of iterations: 48\n"
     ]
    }
   ],
   "source": [
    "newton(X, y, np.zeros(p), 0, rho, eX, eW, 10**-10)"
   ]
  },
  {
   "cell_type": "markdown",
   "metadata": {
    "id": "B7J1Ve5HFDXr"
   },
   "source": [
    "## **Question 3.4**"
   ]
  },
  {
   "cell_type": "code",
   "execution_count": null,
   "metadata": {
    "id": "uS7tItca5xN8"
   },
   "outputs": [],
   "source": [
    "newton(X, y, np.ones(p), 1, rho, eX, eW, 10**-10)"
   ]
  },
  {
   "cell_type": "markdown",
   "metadata": {
    "id": "xMdykTbG5x1a"
   },
   "source": [
    "We found that using a initial point $(w^0_0, w^0)$ = e where $e_i = 1$ for all $i$, the program overflows."
   ]
  },
  {
   "cell_type": "markdown",
   "metadata": {
    "id": "2kc3kMJ-FWwU"
   },
   "source": [
    "## **Question 3.5**"
   ]
  },
  {
   "cell_type": "code",
   "execution_count": null,
   "metadata": {
    "id": "5JlyQbbxX6ti"
   },
   "outputs": [],
   "source": [
    "def function(eW):\n",
    "  w = eW[1:]\n",
    "  w0 = eW[0]\n",
    "  val, grad, hessian = func(X, y, w, w0, rho, eX, eW)\n",
    "  return val\n",
    "\n",
    "def armijo(W, function, grad, hg, a, b):\n",
    "    k = 1.0\n",
    "    beta = 0.5\n",
    "    gamma = b * (a**k)\n",
    "\n",
    "    while (function(W - gamma * hg) > function(W) - beta * gamma * np.sum(grad * hg)):\n",
    "        k = k + 1.0\n",
    "        gamma = b * (a**k)\n",
    "\n",
    "    return gamma\n",
    "\n",
    "def newton_armijo(func, X, y, w, w0, rho, eX, eW, stop, max):\n",
    "\n",
    "  val, grad, hes = func(X, y, w, w0, rho, eX, eW)\n",
    "  hg = np.linalg.solve(hes, grad)\n",
    "\n",
    "  norm = np.linalg.norm(grad[1:])\n",
    "  v = [norm]\n",
    "\n",
    "  k = 0\n",
    "  a = 0.5\n",
    "  gamma = 0.5\n",
    "\n",
    "  while(norm > stop and k < max):\n",
    "      gamma = armijo(eW, function, grad, hg, a, 2 * gamma)\n",
    "      W = np.append(w0, w) - gamma * hg\n",
    "      w0 = W[0]\n",
    "      w = W[1:]\n",
    "\n",
    "      val, grad, hes = func(X, y, w, w0, rho, eX, eW)\n",
    "      hg = np.linalg.solve(hes, grad)\n",
    "\n",
    "      norm = np.linalg.norm(grad[1:])\n",
    "      v.append(norm)\n",
    "      k = k + 1\n",
    "\n",
    "  plt.figure()  \n",
    "  plt.plot(v)\n",
    "  plt.xlabel(\"Iterations\")\n",
    "  plt.ylabel(\"Norm of the gradient\")\n",
    "  plt.show()\n",
    "\n",
    "  print(\"Value of the function:\", val)\n",
    "  print(\"Number of iterations:\", k)"
   ]
  },
  {
   "cell_type": "code",
   "execution_count": null,
   "metadata": {
    "colab": {
     "base_uri": "https://localhost:8080/",
     "height": 314
    },
    "id": "YT00XFpV9HNU",
    "outputId": "d6d40434-c2d3-4531-d445-c1f6c2844f95"
   },
   "outputs": [
    {
     "data": {
      "image/png": "[encoded data removed]",
      "text/plain": [
       "<Figure size 432x288 with 1 Axes>"
      ]
     },
     "metadata": {},
     "output_type": "display_data"
    },
    {
     "name": "stdout",
     "output_type": "stream",
     "text": [
      "Value of the function: 62.949539862951966\n",
      "Number of iterations: 20\n"
     ]
    }
   ],
   "source": [
    "newton_armijo(func, X, y, np.ones(p), 1, rho, eX, eW, 10**-10, 20)"
   ]
  },
  {
   "cell_type": "markdown",
   "metadata": {
    "id": "Wf3jmknHHd6R"
   },
   "source": [
    "# **Regularization for a sparse model** "
   ]
  },
  {
   "cell_type": "markdown",
   "metadata": {
    "id": "zD9kdv5CHm3n"
   },
   "source": [
    "## **Question 4.1**\n",
    "\n",
    "\\begin{equation}\n",
    "min \\; \\frac{1}{n}\\sum_{i=1}^n log(1 + e^{-y_i(x_i^Tw + w_0)}) + \\rho\\|w\\|_1\n",
    "\\end{equation}\n",
    "\n",
    "\\begin{equation}\n",
    "\\|w\\|_1 = \\sum_{i=1}^p |w_i| \\implies \\textrm{$\\|w\\|_1$ is not $C^{1}$}\n",
    "\\end{equation}\n",
    "\n",
    "We only can use Newton's Method if the function is three times continuously differentiable. In this case, since $\\|w\\|_1$ is not differentiable, we cannot use Newton's Method."
   ]
  },
  {
   "cell_type": "markdown",
   "metadata": {
    "id": "6t79qDSFHxrc"
   },
   "source": [
    "## **Question 4.2**\n",
    "Let\n",
    "\\begin{equation}\n",
    "F_2 = \\frac{1}{n}\\sum_{i=1}^n log(1 + e^{-y_i(x_i^Tw + w_0)}) + \\rho\\|w\\|_1 = f_2  + g_2\n",
    "\\end{equation}be an objective function such that $f_2$ is differentiable and the proximal operator of $g_2$ is easy to compute. So, we get: \n",
    "\n",
    "\\begin{equation}\n",
    "f_2 = \\frac{1}{n}\\sum_{i=1}^n log(1 + e^{-y_i(x_i^Tw + w_0)})\n",
    "\\end{equation}\n",
    "\n",
    "\\begin{equation}\n",
    "g_2 = \\rho\\|w\\|_1\n",
    "\\end{equation}\n",
    "\n",
    "Calculating the proximal operator of $g_2$,\n",
    "\n",
    "Since $g_2 = \\rho\\sum_{i=1}^p |w_i| $, we can say that $g_2$ is a separable function. \n",
    "\n",
    "\\begin{equation}\n",
    "prox_{g_2}(w) = argmin_{y\\in\\mathbb{R}^p} \\; g_2(y) + \\frac{1}{2} \\| w- y\\|_2 ^2 = argmin_{y\\in\\mathbb{R}^p} \\; \\sum_{i=1}^p \\rho|y_i| + \\frac{1}{2} (w_i - y_i) ^2\n",
    "\\end{equation}\n",
    "\n",
    "Consequently,\n",
    "\\begin{equation}\n",
    "prox_{g_2}(w) = \n",
    "\\begin{pmatrix}\n",
    " prox_{{g_2}_1}(w_1)\\\\\n",
    " .\\\\\n",
    " .\\\\\n",
    " .\\\\\n",
    " prox_{{g_2}_p}(w_p)\n",
    "\\end{pmatrix}  \n",
    "\\end{equation}\n",
    "\n",
    "\\\\\n",
    "\n",
    "\\begin{equation}\n",
    "  prox_{{g_2}_i}(w_i) =  S_{\\rho}(w_i) =\n",
    "  \\begin{cases}\n",
    "  w_i - \\rho, \\; w_i > \\rho \\\\\n",
    "  0, \\; w_i \\in [-\\rho,\\rho]\\\\\n",
    "  w_i + \\rho, \\; w_i < -\\rho\n",
    "  \\end{cases}\n",
    "\\end{equation}\n",
    "\n",
    "\\\\\n",
    "\n",
    "\\begin{equation}\n",
    "prox_{g_2}(w) = \n",
    "\\begin{pmatrix}\n",
    " S_{\\rho}(w_1)\\\\\n",
    " .\\\\\n",
    " .\\\\\n",
    " .\\\\\n",
    " S_{\\rho}(w_p)\n",
    "\\end{pmatrix} \n",
    "\\end{equation}\n",
    "\n",
    "Calculating the gradient of $f_2$,\n",
    "\n",
    "\\begin{equation}\n",
    "\\nabla f_2(w_0,w) =\n",
    "\\begin{pmatrix}\n",
    " \\frac {\\partial f_2}{\\partial w_0}\\\\\n",
    " \\frac {\\partial f_2}{\\partial w} \n",
    "\\end{pmatrix}  \n",
    "=\n",
    "\\begin{pmatrix}\n",
    " \\frac{1}{n}\\sum_{i=1}^n\\frac{-y_i}{1 + e^{y_i(x_i^T w+w_0)}}\\\\\n",
    " \\frac{1}{n}\\sum_{i=1}^n\\frac{-y_i}{1 + e^{y_i(x_i^T w+w_0)}}x_i \n",
    "\\end{pmatrix}\n",
    "\\in \\mathbb{R}^{p+1}\n",
    "\\end{equation}"
   ]
  }
 ],
 "metadata": {
  "colab": {
   "collapsed_sections": [],
   "name": "ComputerLab1.ipynb",
   "provenance": []
  },
  "kernelspec": {
   "display_name": "Python 3 (ipykernel)",
   "language": "python",
   "name": "python3"
  },
  "language_info": {
   "codemirror_mode": {
    "name": "ipython",
    "version": 3
   },
   "file_extension": ".py",
   "mimetype": "text/x-python",
   "name": "python",
   "nbconvert_exporter": "python",
   "pygments_lexer": "ipython3",
   "version": "3.9.7"
  }
 },
 "nbformat": 4,
 "nbformat_minor": 1
}
