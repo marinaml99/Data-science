{
 "cells": [
  {
   "cell_type": "markdown",
   "id": "Ax12JeUIxXvz",
   "metadata": {
    "id": "Ax12JeUIxXvz"
   },
   "source": [
    "# TP2 - Digit Recognition - SD-TSIA211 - Telecom Paris\n",
    "\n",
    "Student: DE MENEZES LIMA Marina\n",
    "\n",
    "Jan 28 2022\n"
   ]
  },
  {
   "cell_type": "markdown",
   "id": "78MVfT6XUMQj",
   "metadata": {
    "id": "78MVfT6XUMQj"
   },
   "source": [
    "---"
   ]
  },
  {
   "cell_type": "markdown",
   "id": "moGSBhYyUme0",
   "metadata": {
    "id": "moGSBhYyUme0"
   },
   "source": [
    "## Data:"
   ]
  },
  {
   "cell_type": "code",
   "execution_count": 15,
   "id": "149938de",
   "metadata": {
    "id": "149938de"
   },
   "outputs": [],
   "source": [
    "import numpy as np\n",
    "import tensorflow as tf\n",
    "from tensorflow import keras\n",
    "from tensorflow.keras import layers\n",
    "import matplotlib.pyplot as plt"
   ]
  },
  {
   "cell_type": "markdown",
   "id": "DvcYk-40Ujer",
   "metadata": {
    "id": "DvcYk-40Ujer"
   },
   "source": [
    "As we know, ```keras``` has MNIST as one of its standard datasets. Therefore, we can instantly get both the train and the test data using ```tensorflow.keras.datasets.mnist.load_data``` as follows:"
   ]
  },
  {
   "cell_type": "code",
   "execution_count": 16,
   "id": "773c1396",
   "metadata": {
    "id": "773c1396"
   },
   "outputs": [],
   "source": [
    "train_data, test_data = tf.keras.datasets.mnist.load_data(path=\"mnist.npz\")"
   ]
  },
  {
   "cell_type": "markdown",
   "id": "RlFGKp2jVu2Y",
   "metadata": {
    "id": "RlFGKp2jVu2Y"
   },
   "source": [
    "Moreover, we can reorganise it as ```x_train```, ```y_train```, ```x_test```, and ```y_test```. "
   ]
  },
  {
   "cell_type": "code",
   "execution_count": 17,
   "id": "W1LngMFNVfIW",
   "metadata": {
    "id": "W1LngMFNVfIW"
   },
   "outputs": [],
   "source": [
    "x_train = train_data[0].reshape(-1,784).astype(float) / 255\n",
    "y_train = train_data[1]\n",
    "\n",
    "x_test = test_data[0].reshape(-1,784).astype(float) / 255\n",
    "y_test = test_data[1]"
   ]
  },
  {
   "cell_type": "markdown",
   "id": "nwnDWaGLXtY-",
   "metadata": {
    "id": "nwnDWaGLXtY-"
   },
   "source": [
    "For instance, we can see on of the input images and it expected label:"
   ]
  },
  {
   "cell_type": "code",
   "execution_count": 18,
   "id": "r3RP7wL8Xq-h",
   "metadata": {
    "colab": {
     "base_uri": "https://localhost:8080/",
     "height": 300
    },
    "id": "r3RP7wL8Xq-h",
    "outputId": "e3847f5e-4d4c-4b8d-a8cf-559d112b9903"
   },
   "outputs": [
    {
     "name": "stdout",
     "output_type": "stream",
     "text": [
      "Expected label: 5\n"
     ]
    },
    {
     "data": {
      "text/plain": [
       "<matplotlib.image.AxesImage at 0x7f4c4386ead0>"
      ]
     },
     "execution_count": 18,
     "metadata": {},
     "output_type": "execute_result"
    },
    {
     "data": {
      "image/png": "[encoded data removed]",
      "text/plain": [
       "<Figure size 432x288 with 1 Axes>"
      ]
     },
     "metadata": {
      "needs_background": "light"
     },
     "output_type": "display_data"
    }
   ],
   "source": [
    "print(f'Expected label: {y_train[0]}')\n",
    "plt.imshow(train_data[0][0], cmap='gray')"
   ]
  },
  {
   "cell_type": "markdown",
   "id": "amq51BM_Y1aO",
   "metadata": {
    "id": "amq51BM_Y1aO"
   },
   "source": [
    "## Neural network model:"
   ]
  },
  {
   "cell_type": "code",
   "execution_count": 19,
   "id": "4b521b78",
   "metadata": {
    "colab": {
     "base_uri": "https://localhost:8080/"
    },
    "id": "4b521b78",
    "outputId": "3b64411c-5df6-475c-b4b1-dddc60ee6e42"
   },
   "outputs": [
    {
     "name": "stdout",
     "output_type": "stream",
     "text": [
      "Model: \"mnist_model\"\n",
      "_________________________________________________________________\n",
      " Layer (type)                Output Shape              Param #   \n",
      "=================================================================\n",
      " digits (InputLayer)         [(None, 784)]             0         \n",
      "                                                                 \n",
      " dense_1 (Dense)             (None, 32)                25120     \n",
      "                                                                 \n",
      " dense_2 (Dense)             (None, 32)                1056      \n",
      "                                                                 \n",
      " predictions (Dense)         (None, 10)                330       \n",
      "                                                                 \n",
      "=================================================================\n",
      "Total params: 26,506\n",
      "Trainable params: 26,506\n",
      "Non-trainable params: 0\n",
      "_________________________________________________________________\n"
     ]
    }
   ],
   "source": [
    "# source: https://keras.io/guides/training_with_built_in_methods/\n",
    "\n",
    "inputs = keras.Input(shape=(784,), name=\"digits\")\n",
    "x = layers.Dense(32, activation=\"relu\", name=\"dense_1\")(inputs)\n",
    "x = layers.Dense(32, activation=\"relu\", name=\"dense_2\")(x)\n",
    "outputs = layers.Dense(10, activation=\"softmax\", name=\"predictions\")(x)\n",
    "model = keras.Model(inputs=inputs, outputs=outputs, name=\"mnist_model\")\n",
    "loss = keras.losses.SparseCategoricalCrossentropy(from_logits=True)\n",
    "\n",
    "\n",
    "model.summary()"
   ]
  },
  {
   "cell_type": "markdown",
   "id": "B6ORO9CEwDSc",
   "metadata": {
    "id": "B6ORO9CEwDSc"
   },
   "source": [
    "**Question 4.1**\n",
    "\n",
    "How many optimization variables are we going to train using this model ?"
   ]
  },
  {
   "cell_type": "markdown",
   "id": "1cDKym9YyYvY",
   "metadata": {
    "id": "1cDKym9YyYvY"
   },
   "source": [
    "Let the model be defined as follows:\n",
    "\n",
    "$$ f_1 = \\{X^Tw_1 + b \\,\\,|\\,\\, w_1 \\in \\mathbb{R}^{784\\times1}; b \\in \\mathbb{R}^{784}\\}$$\n",
    "$$ f_2 = \\mathbb{R}^{32 \\times 1} + b$$\n",
    "$$ f_1 = \\mathbb{R}^{1 \\times 32} + b$$\n",
    "$$ f_1 = \\mathbb{R}^{10 \\times 1} + b$$\n",
    "\n",
    "Using this model we are going to optimize 26506 variables."
   ]
  },
  {
   "cell_type": "markdown",
   "id": "aIQaj83AzhQE",
   "metadata": {
    "id": "aIQaj83AzhQE"
   },
   "source": [
    "## Stochastic gradient descent"
   ]
  },
  {
   "cell_type": "code",
   "execution_count": 20,
   "id": "YIfJUMQD_nXK",
   "metadata": {
    "id": "YIfJUMQD_nXK"
   },
   "outputs": [],
   "source": [
    "## Updating weights\n",
    "def update_weights(model, update):\n",
    "    new_weights = model.trainable_weights.copy()\n",
    "    for i in range(len(new_weights)):\n",
    "        new_weights[i] = new_weights[i] - update[i]\n",
    "    model.set_weights(new_weights)"
   ]
  },
  {
   "cell_type": "code",
   "execution_count": 21,
   "id": "ec79dd02",
   "metadata": {
    "colab": {
     "base_uri": "https://localhost:8080/"
    },
    "id": "ec79dd02",
    "outputId": "7990fb9b-a87e-4af6-8f5d-4d038d7d1a94"
   },
   "outputs": [
    {
     "name": "stderr",
     "output_type": "stream",
     "text": [
      "/usr/local/lib/python3.7/dist-packages/tensorflow/python/util/dispatch.py:1096: UserWarning: \"`sparse_categorical_crossentropy` received `from_logits=True`, but the `output` argument was produced by a sigmoid or softmax activation and thus does not represent logits. Was this intended?\"\n",
      "  return dispatch_target(*args, **kwargs)\n"
     ]
    }
   ],
   "source": [
    "learning_rate = 0.1\n",
    "learning_rate_k = learning_rate\n",
    "epochs = 1\n",
    "loss_plot = []\n",
    "\n",
    "for i in range(epochs):\n",
    "  for batch_index in range(x_train.shape[0]):\n",
    "    x_train_batch = x_train[batch_index].reshape(-1,1).T\n",
    "    y_train_batch = y_train[batch_index].reshape(-1,1).T\n",
    "    with tf.GradientTape() as tape:\n",
    "            logits = model(x_train_batch)  # Logits for this minibatch\n",
    "\n",
    "            # Compute the loss value for this minibatch.\n",
    "            loss_value = loss(y_train_batch, logits)\n",
    "            loss_plot.append(loss_value)\n",
    "            \n",
    "    # Use the gradient tape to automatically retrieve\n",
    "    # the gradients of the trainable variables with respect to the loss.\n",
    "    grad = tape.gradient(loss_value, model.trainable_weights)\n",
    "\n",
    "    update = [item*learning_rate_k for item in grad]\n",
    "    update_weights(model,update)\n",
    "    learning_rate_k = learning_rate/np.sqrt(batch_index+1)"
   ]
  },
  {
   "cell_type": "markdown",
   "id": "YNJS1ehr1dQ0",
   "metadata": {
    "id": "YNJS1ehr1dQ0"
   },
   "source": [
    "We have that the loss function for y_test is:"
   ]
  },
  {
   "cell_type": "code",
   "execution_count": 22,
   "id": "1ba54737",
   "metadata": {
    "colab": {
     "base_uri": "https://localhost:8080/"
    },
    "id": "1ba54737",
    "outputId": "1b3c3cec-e9d9-42d9-eb10-1da30f8d9882"
   },
   "outputs": [
    {
     "name": "stderr",
     "output_type": "stream",
     "text": [
      "/usr/local/lib/python3.7/dist-packages/tensorflow/python/util/dispatch.py:1096: UserWarning: \"`sparse_categorical_crossentropy` received `from_logits=True`, but the `output` argument was produced by a sigmoid or softmax activation and thus does not represent logits. Was this intended?\"\n",
      "  return dispatch_target(*args, **kwargs)\n"
     ]
    },
    {
     "data": {
      "text/plain": [
       "8.337288"
      ]
     },
     "execution_count": 22,
     "metadata": {},
     "output_type": "execute_result"
    }
   ],
   "source": [
    "## Evaluate model\n",
    "samples_for_evaluation = np.random.randint(0, 10000, 1000)\n",
    "logits = model(x_train[samples_for_evaluation])\n",
    "loss(y_test[samples_for_evaluation], logits).numpy()"
   ]
  },
  {
   "cell_type": "markdown",
   "id": "twN5ckB81nyS",
   "metadata": {
    "id": "twN5ckB81nyS"
   },
   "source": [
    "For y_train, it is:"
   ]
  },
  {
   "cell_type": "code",
   "execution_count": 24,
   "id": "9d9bf5cc",
   "metadata": {
    "colab": {
     "base_uri": "https://localhost:8080/"
    },
    "id": "9d9bf5cc",
    "outputId": "79e4c2a3-9e2e-42a8-aa89-520208f7bbcf"
   },
   "outputs": [
    {
     "name": "stderr",
     "output_type": "stream",
     "text": [
      "/usr/local/lib/python3.7/dist-packages/tensorflow/python/util/dispatch.py:1096: UserWarning: \"`sparse_categorical_crossentropy` received `from_logits=True`, but the `output` argument was produced by a sigmoid or softmax activation and thus does not represent logits. Was this intended?\"\n",
      "  return dispatch_target(*args, **kwargs)\n"
     ]
    },
    {
     "data": {
      "text/plain": [
       "0.24369492"
      ]
     },
     "execution_count": 24,
     "metadata": {},
     "output_type": "execute_result"
    }
   ],
   "source": [
    "samples_for_evaluation = np.random.randint(0, 10000, 1000)\n",
    "logits = model(x_test[samples_for_evaluation])\n",
    "loss(y_test[samples_for_evaluation], logits).numpy()"
   ]
  },
  {
   "cell_type": "markdown",
   "id": "tOGS8LYp2H4i",
   "metadata": {
    "id": "tOGS8LYp2H4i"
   },
   "source": [
    "The plot for the objective value as a function of the iterations:"
   ]
  },
  {
   "cell_type": "code",
   "execution_count": 29,
   "id": "JN-4VZ441rqi",
   "metadata": {
    "colab": {
     "base_uri": "https://localhost:8080/",
     "height": 282
    },
    "id": "JN-4VZ441rqi",
    "outputId": "b7a322dc-1efe-450b-f310-fca73068dccb"
   },
   "outputs": [
    {
     "data": {
      "text/plain": [
       "[<matplotlib.lines.Line2D at 0x7f4c4320ae50>]"
      ]
     },
     "execution_count": 29,
     "metadata": {},
     "output_type": "execute_result"
    },
    {
     "data": {
      "image/png": "[encoded data removed]",
      "text/plain": [
       "<Figure size 432x288 with 1 Axes>"
      ]
     },
     "metadata": {
      "needs_background": "light"
     },
     "output_type": "display_data"
    }
   ],
   "source": [
    "plt.plot(loss_plot)"
   ]
  },
  {
   "cell_type": "markdown",
   "id": "mgRURkDdbv17",
   "metadata": {
    "id": "mgRURkDdbv17"
   },
   "source": [
    "## Empirical Risk Minimization:\n"
   ]
  },
  {
   "cell_type": "code",
   "execution_count": 30,
   "id": "UKv5sQQjcBbc",
   "metadata": {
    "colab": {
     "base_uri": "https://localhost:8080/"
    },
    "id": "UKv5sQQjcBbc",
    "outputId": "0a457e5d-aa96-4be6-9e4f-b32f7500c6af"
   },
   "outputs": [
    {
     "name": "stderr",
     "output_type": "stream",
     "text": [
      "/usr/local/lib/python3.7/dist-packages/tensorflow/python/util/dispatch.py:1096: UserWarning: \"`sparse_categorical_crossentropy` received `from_logits=True`, but the `output` argument was produced by a sigmoid or softmax activation and thus does not represent logits. Was this intended?\"\n",
      "  return dispatch_target(*args, **kwargs)\n"
     ]
    }
   ],
   "source": [
    "learning_rate = 0.1\n",
    "learning_rate_k = learning_rate\n",
    "epochs = 10\n",
    "loss_plot = []\n",
    "batch_size = 100 \n",
    "\n",
    "for i in range(epochs):\n",
    "  for batch_index in range(0,x_train.shape[0],batch_size):\n",
    "    x_train_batch = (x_train[batch_index:batch_index+batch_size].sum(axis=0)/batch_size).reshape(-1,1).T \n",
    "    y_train_batch = (y_train[batch_index:batch_index+batch_size].sum(axis=0)/batch_size).reshape(-1,1).T\n",
    "    with tf.GradientTape() as tape:\n",
    "            logits = model(x_train_batch)  # Logits for this minibatch\n",
    "\n",
    "            # Compute the loss value for this minibatch.\n",
    "            loss_value = loss(y_train_batch, logits)\n",
    "            loss_plot.append(loss_value)\n",
    "    # Use the gradient tape to automatically retrieve\n",
    "    # the gradients of the trainable variables with respect to the loss.\n",
    "    grad = tape.gradient(loss_value, model.trainable_weights)\n",
    "    update = [item*learning_rate_k for item in grad]\n",
    "    update_weights(model,update)\n",
    "    learning_rate_k = learning_rate/np.sqrt(batch_index+1)"
   ]
  },
  {
   "cell_type": "code",
   "execution_count": 31,
   "id": "-BHcxeCIeF0P",
   "metadata": {
    "id": "-BHcxeCIeF0P"
   },
   "outputs": [],
   "source": [
    "model.compile(loss=loss,metrics=['accuracy'])"
   ]
  },
  {
   "cell_type": "code",
   "execution_count": 32,
   "id": "JdOxfdkTei_g",
   "metadata": {
    "colab": {
     "base_uri": "https://localhost:8080/"
    },
    "id": "JdOxfdkTei_g",
    "outputId": "30d204ef-e3f2-4191-ba6c-aaa6498ee8e2"
   },
   "outputs": [
    {
     "name": "stdout",
     "output_type": "stream",
     "text": [
      "\r",
      "  1/313 [..............................] - ETA: 1:25 - loss: 3.7372 - accuracy: 0.1875"
     ]
    },
    {
     "name": "stderr",
     "output_type": "stream",
     "text": [
      "/usr/local/lib/python3.7/dist-packages/tensorflow/python/util/dispatch.py:1096: UserWarning: \"`sparse_categorical_crossentropy` received `from_logits=True`, but the `output` argument was produced by a sigmoid or softmax activation and thus does not represent logits. Was this intended?\"\n",
      "  return dispatch_target(*args, **kwargs)\n"
     ]
    },
    {
     "name": "stdout",
     "output_type": "stream",
     "text": [
      "313/313 [==============================] - 1s 1ms/step - loss: 5.3687 - accuracy: 0.1779\n"
     ]
    },
    {
     "data": {
      "text/plain": [
       "[5.368722438812256, 0.17790000140666962]"
      ]
     },
     "execution_count": 32,
     "metadata": {},
     "output_type": "execute_result"
    }
   ],
   "source": [
    "model.evaluate(x_test,y_test)"
   ]
  }
 ],
 "metadata": {
  "colab": {
   "collapsed_sections": [],
   "name": "TP2_SD-TSIA-211.ipynb",
   "provenance": []
  },
  "kernelspec": {
   "display_name": "Python 3 (ipykernel)",
   "language": "python",
   "name": "python3"
  },
  "language_info": {
   "codemirror_mode": {
    "name": "ipython",
    "version": 3
   },
   "file_extension": ".py",
   "mimetype": "text/x-python",
   "name": "python",
   "nbconvert_exporter": "python",
   "pygments_lexer": "ipython3",
   "version": "3.9.7"
  }
 },
 "nbformat": 4,
 "nbformat_minor": 5
}
